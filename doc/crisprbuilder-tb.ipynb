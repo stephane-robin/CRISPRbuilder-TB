{
 "cells": [
  {
   "cell_type": "markdown",
   "metadata": {},
   "source": [
    "![Femto](femto.png)"
   ]
  },
  {
   "cell_type": "markdown",
   "metadata": {},
   "source": [
    "\n"
   ]
  },
  {
   "cell_type": "markdown",
   "metadata": {},
   "source": [
    "# CRISPRbuilder-TB"
   ]
  },
  {
   "cell_type": "markdown",
   "metadata": {},
   "source": [
    "\n"
   ]
  },
  {
   "cell_type": "markdown",
   "metadata": {},
   "source": [
    "The CRISPRbuilder-TB package is an open source software made available under generous terms. Please see the LICENSE file for further details.\n",
    "\n",
    "If you use CRISPRbuilder-TB in work contributing to a scientific publication, we ask that you cite the following application note: Femto-ST Institute, UMR 6174 CNRS, University of Bourgogne Franche-Comté, France.\n"
   ]
  },
  {
   "cell_type": "markdown",
   "metadata": {},
   "source": [
    "## Purpose of this package\n",
    "-----"
   ]
  },
  {
   "cell_type": "markdown",
   "metadata": {},
   "source": [
    "CRISPRbuilder-TB will help you collect and annotate Mycobacterium tuberculosis whole genome sequencing data for CRISPR investigations. Given a Sequence Read Archive reference, the package will provide the genome information dictionary comprising the following elements:\n",
    "\n",
    "* the number of reads for the study,\n",
    "* the length of those reads,\n",
    "* the cowerage of the study,\n",
    "* the source of publication for the SRA reference,\n",
    "* the authors who discovered it,\n",
    "* the study accession number,\n",
    "* the location of discovery,\n",
    "* the date of discovery,\n",
    "* the center that discovered the SRA,\n",
    "* the strain for the SRA,\n",
    "* the taxid,\n",
    "* the name of the SRA,\n",
    "* the reference of the study,\n",
    "* the bioproject number,\n",
    "* the spoligotypes,\n",
    "* the spoligotypes new version,\n",
    "* the spoligotype numbers,\n",
    "* the spoligotype new version numbers,\n",
    "* the spoligotypes vitro,\n",
    "* the spoligotypes vitro new version,\n",
    "* the spoligotypes vitro numbers,\n",
    "* the spoligotypes vitro new version numbers,\n",
    "* the Spoligotype International Type,\n",
    "* the Spoligotype International Type silico,\n",
    "* the affiliation to lineage L6+animal,\n",
    "* the affiliation to lineage Principal Genotyping Group-cp,\n",
    "* the affiliation to lineage Principal Genotyping Group,\n",
    "* the affiliation to lineage Coll,\n",
    "* the affiliation to lineage Pali,\n",
    "* the affiliation to lineage Shitikov,\n",
    "* the affiliation to lineage Stucki"
   ]
  },
  {
   "cell_type": "markdown",
   "metadata": {},
   "source": [
    "## How to install the package ?\n",
    "----------------"
   ]
  },
  {
   "cell_type": "markdown",
   "metadata": {},
   "source": [
    "This package comes with a Command Line Interface, so it should be installed and executed using your conmmand prompt. For Linux, MacOS or Windows platforms, the installation requires the same instruction. Go the the directory you want the package to be stored to and write in your command prompt:"
   ]
  },
  {
   "cell_type": "markdown",
   "metadata": {},
   "source": [
    "    pip3 install CRISPRbuilder-TB"
   ]
  },
  {
   "cell_type": "markdown",
   "metadata": {},
   "source": [
    "## How to use the Command Line Interface ?\n",
    "-----------------"
   ]
  },
  {
   "cell_type": "markdown",
   "metadata": {},
   "source": [
    "After installing the package, you can find help with the command prompt, listing the different available options, such as **--collect, --list, --add, --print, --remove, --change,** and their expected syntax. Stay in the directory containing CRISPRbuilder-TB and write in the command prompt:"
   ]
  },
  {
   "cell_type": "markdown",
   "metadata": {},
   "source": [
    "    python3 CRISPRbuilder-TB --help"
   ]
  },
  {
   "cell_type": "markdown",
   "metadata": {},
   "source": [
    "The help menu will display the following information:"
   ]
  },
  {
   "cell_type": "markdown",
   "metadata": {},
   "source": [
    "    usage: CRISPRbuilder-TB [-h] [--collect] [--list] [--add] [--remove] [--change] [--print] sra\n",
    "\n",
    "    Collects and annotates Mycobacterium tuberculosis whole genome sequencing data for CRISPR investigation.\n",
    "\n",
    "    positional arguments:\n",
    "      sra         requires the reference of a SRA, the path to a file of SRA references or 0. See doc.\n",
    "\n",
    "    optional arguments:\n",
    "      -h, --help  show this help message and exit\n",
    "      --collect   collects the reference of a SRA to get information about this SRA. See doc.\n",
    "      --list      collects the path to a file of SRA references to get information about. See doc.\n",
    "      --add       collects data to add to the file data/lineage.csv. Requires 0 as argument. See doc.\n",
    "      --remove    removes data from the file data/lineage.csv. Requires 0 as argument. See doc.\n",
    "      --change    collects data to update the file data/lineage.csv. Requires 0 as argument. See doc.\n",
    "      --print     prints the file data/lineage.csv. Requires 0 as argument. See doc."
   ]
  },
  {
   "cell_type": "markdown",
   "metadata": {},
   "source": [
    "<h3>Execute CRISPRbuilder-TB with a SRA reference</h3>"
   ]
  },
  {
   "cell_type": "markdown",
   "metadata": {},
   "source": [
    "You can run the package if you wish to find information regarding a specific SRA. From the directory containing the package, use the command prompt to write:"
   ]
  },
  {
   "cell_type": "markdown",
   "metadata": {},
   "source": [
    "    python3 CRISPRbuilder-TB --collect {SRA_reference}"
   ]
  },
  {
   "cell_type": "markdown",
   "metadata": {},
   "source": [
    "This package uses the included version 3.6.4 of Python, which is why it is necessary to precise python3 in the command line, in case the default version on your computer would be 2.7.\n",
    "\n",
    "**Caution:** the instruction above won't work if you're already in the package."
   ]
  },
  {
   "cell_type": "markdown",
   "metadata": {},
   "source": [
    "**Exemple:** to find information about SRR8368696"
   ]
  },
  {
   "cell_type": "markdown",
   "metadata": {},
   "source": [
    "    python3 CRISPRbuilder-TB --collect SRR8368696"
   ]
  },
  {
   "cell_type": "markdown",
   "metadata": {},
   "source": [
    "### Execute CRISPRbuilder-TB with a list of SRA references"
   ]
  },
  {
   "cell_type": "markdown",
   "metadata": {},
   "source": [
    "To run the package with a list of SRA references, this list must be composed of one SRA reference per line in a .txt format file. Then, if you wish to find information regarding a list of specific SRAs, stay in the directory containing the package and use the command prompt to write:"
   ]
  },
  {
   "cell_type": "markdown",
   "metadata": {},
   "source": [
    "    python3 CRISPRbuilder-TB --list {path_to_the_file}"
   ]
  },
  {
   "cell_type": "markdown",
   "metadata": {},
   "source": [
    "**Exemple:** to find information about the different SRA included in the file **my_file.txt** from the **Documents** directory."
   ]
  },
  {
   "cell_type": "markdown",
   "metadata": {},
   "source": [
    "    python3 CRISPRbuilder-TB --list /Documents/my_file.txt"
   ]
  },
  {
   "cell_type": "markdown",
   "metadata": {},
   "source": [
    "<h3>Print the database lineage.csv</h3>"
   ]
  },
  {
   "cell_type": "markdown",
   "metadata": {},
   "source": [
    "    python3 CRISPRbuilder-TB --print 0"
   ]
  },
  {
   "cell_type": "markdown",
   "metadata": {},
   "source": [
    "**Caution:** it is necessary to add the 0 after `--print`.\n",
    "\n",
    "The command prompt will then display the content of the database **lineage.csv**:"
   ]
  },
  {
   "cell_type": "markdown",
   "metadata": {},
   "source": [
    "    lineage, Position, Gene coord., Allele change, Codon number, Codon change, Amino acid change, Locus Id, Gene name, Gene type, Type of mutation, 5' gene, 3' gene, Strand, Sublineage surname, Essential, Origin,\n",
    "    4.1.1, 3798451, , C/G, , GGG/GGC, G/G, Rv3383c, idsB, non essential, syn, 3797437, 398489, -, X, , Stucki et al.,\n",
    "    4.1.2, 3013784, , C/G, , GTC/CTC, V/L, Rv2697c, dut, ess, non-syn, 3013683, 3014147, -, Haarlem, , Stucki et al.,\n",
    "    4.1.3, 4409231, , T/G, , GAG/GCG, E/A, Rv3921c, -, ess, 4280033, 4408969, 4410069, -, Ghana, , Stucki et al.,\n",
    "    4.2, 2181026, , G/C, , CCC/CCG, P/P, Rv1928c, , non essential, syn, 2180450, 2181217, -, -, , Stucki et al., \n",
    "    4.3, 1480024, , G/T, , TTC/TTA, F/L, Rv1318c, , non essential, non-syn, 1479199, 1480824, -, LAM, , Stucki et al.,\n",
    "    4.4, 3966059, , G/C, , ACG/AGG, T/R, Rv3529c, -, non essential, non-syn, 3965884, 3967038, -, -, , Stucki et al.,"
   ]
  },
  {
   "cell_type": "markdown",
   "metadata": {},
   "source": [
    "<h3>Add a record to lineage.csv</h3>"
   ]
  },
  {
   "cell_type": "markdown",
   "metadata": {},
   "source": [
    "    python3 CRISPRbuilder-TB --add 0"
   ]
  },
  {
   "cell_type": "markdown",
   "metadata": {},
   "source": [
    "**Caution:** it is necessary to add the 0 after `--add`.\n",
    "\n",
    "You will then be asked the values of the different fields (lineage, position, gene coordinates, allege change, codon number, codon change, amino acide change, locus ID, gene name, gene type, type of mutation, 5' gene, 3' gene, strand, sublineage surname, essential, origin of the study). In case you don't know the value of a particular field, just press enter."
   ]
  },
  {
   "cell_type": "markdown",
   "metadata": {},
   "source": [
    "<h3>Remove a record from lineage.csv</h3>"
   ]
  },
  {
   "cell_type": "markdown",
   "metadata": {},
   "source": [
    "    python3 CRISPRbuilder-TB --remove 0"
   ]
  },
  {
   "cell_type": "markdown",
   "metadata": {},
   "source": [
    "**Caution:** it is necessary to add the 0 after `--remove`.\n",
    "\n",
    "You will then be asked the reference of the line you wish to delete, which consists of the lineage and the position (see below)."
   ]
  },
  {
   "cell_type": "markdown",
   "metadata": {},
   "source": [
    "    lineage, Position, Gene coord., Allele change, Codon number, Codon change, Amino acid change, Locus Id, Gene name, Gene type, Type of mutation, 5' gene, 3' gene, Strand, Sublineage surname, Essential, Origin,\n",
    "    4.1.1, 3798451, , C/G, , GGG/GGC, G/G, Rv3383c, idsB, non essential, syn, 3797437, 398489, -, X, , Stucki et al.,\n",
    "    4.1.2, 3013784, , C/G, , GTC/CTC, V/L, Rv2697c, dut, ess, non-syn, 3013683, 3014147, -, Haarlem, , Stucki et al.,\n",
    "    4.1.3, 4409231, , T/G, , GAG/GCG, E/A, Rv3921c, -, ess, 4280033, 4408969, 4410069, -, Ghana, , Stucki et al.,\n",
    "    4.2, 2181026, , G/C, , CCC/CCG, P/P, Rv1928c, , non essential, syn, 2180450, 2181217, -, -, , Stucki et al., \n",
    "    4.3, 1480024, , G/T, , TTC/TTA, F/L, Rv1318c, , non essential, non-syn, 1479199, 1480824, -, LAM, , Stucki et al.,\n",
    "    4.4, 3966059, , G/C, , ACG/AGG, T/R, Rv3529c, -, non essential, non-syn, 3965884, 3967038, -, -, , Stucki et al.,"
   ]
  },
  {
   "cell_type": "markdown",
   "metadata": {},
   "source": [
    "<h3>Change a record from lineage.csv</h3>"
   ]
  },
  {
   "cell_type": "markdown",
   "metadata": {},
   "source": [
    "    python3 CRISPRbuilder-TB --change 0"
   ]
  },
  {
   "cell_type": "markdown",
   "metadata": {},
   "source": [
    "**Caution:** it is necessary to add the 0 after `--change`.\n",
    "\n",
    "You will then be asked the reference of the line you wish to delete, which consists of the lineage and the position (see below)."
   ]
  },
  {
   "cell_type": "markdown",
   "metadata": {},
   "source": [
    "    lineage, Position, Gene coord., Allele change, Codon number, Codon change, Amino acid change, Locus Id, Gene name, Gene type, Type of mutation, 5' gene, 3' gene, Strand, Sublineage surname, Essential, Origin,\n",
    "    4.1.1, 3798451, , C/G, , GGG/GGC, G/G, Rv3383c, idsB, non essential, syn, 3797437, 398489, -, X, , Stucki et al.,\n",
    "    4.1.2, 3013784, , C/G, , GTC/CTC, V/L, Rv2697c, dut, ess, non-syn, 3013683, 3014147, -, Haarlem, , Stucki et al.,\n",
    "    4.1.3, 4409231, , T/G, , GAG/GCG, E/A, Rv3921c, -, ess, 4280033, 4408969, 4410069, -, Ghana, , Stucki et al.,\n",
    "    4.2, 2181026, , G/C, , CCC/CCG, P/P, Rv1928c, , non essential, syn, 2180450, 2181217, -, -, , Stucki et al., \n",
    "    4.3, 1480024, , G/T, , TTC/TTA, F/L, Rv1318c, , non essential, non-syn, 1479199, 1480824, -, LAM, , Stucki et al.,\n",
    "    4.4, 3966059, , G/C, , ACG/AGG, T/R, Rv3529c, -, non essential, non-syn, 3965884, 3967038, -, -, , Stucki et al.,"
   ]
  },
  {
   "cell_type": "markdown",
   "metadata": {},
   "source": [
    "You will then be asked the values of the different fields: lineage, position, gene coordinates, allege change, codon number, codon change, amino acide change, locus ID, gene name, gene type, type of mutation, 5' gene, 3' gene, strand, sublineage surname, essential, origin of the study. In case you don't know the value of a particular field, just press enter."
   ]
  },
  {
   "cell_type": "markdown",
   "metadata": {},
   "source": [
    "## Composition of the package and dependencies\n",
    "----------------------"
   ]
  },
  {
   "cell_type": "markdown",
   "metadata": {},
   "source": [
    "CRISPRbuilder-TB needs the following dependencies to work:\n",
    "\n",
    "* python = \"^3.7\"\n",
    "* xlrd = \"^1.2.0\"\n",
    "* openpyxl = \"^3.0.3\"\n",
    "* xmltodict = \"^0.12.0\"\n",
    "* biopython = \"^1.76\"\n",
    "* datetime = \"^4.3\"\n",
    "* parallel-fastq-dump\n",
    "* balstn+\n",
    "\n",
    "These different versions are automatically downloaded when installing the CRISPRbuilder-TB package."
   ]
  },
  {
   "cell_type": "markdown",
   "metadata": {},
   "source": [
    "The package structure is the following:"
   ]
  },
  {
   "cell_type": "markdown",
   "metadata": {},
   "source": [
    "<img src=\"tree.png\" alt=\"tree\" align=\"center\"/>"
   ]
  },
  {
   "cell_type": "markdown",
   "metadata": {},
   "source": [
    "The **\\_\\_main\\_\\_.py** file contains the actual code for the package.<br/>\n",
    "The **data** directory contains the necessary database to compare with the SRA reference when the code is executed.<br/>\n",
    "The **REP/sequences** directory contains the different result database for each execution of the code. That's typically where you can find fasta format files regarding a specific SRA you've asked for.<br/>\n",
    "The **doc** directory contains the necessary documentation to explain how this package works. It includes a **README.md** file explaining how to install the package for those who just need the essential, the copiright conditions for this package with the **LICENSE** file and the present notebook."
   ]
  },
  {
   "cell_type": "markdown",
   "metadata": {},
   "source": [
    "## Retrieving the genome information dictionary\n",
    "--------------------------"
   ]
  },
  {
   "cell_type": "markdown",
   "metadata": {},
   "source": [
    "Let's assume you're looking for information regarding ERR2704808. After writing `python3 CRISPRbuilder-TB --collect ERR2704808` in the command prompt, a directory called ERR2704808 will be created in **REP/sequences** and the item ERR2704808 will be added to the database. the following message will be displayed:"
   ]
  },
  {
   "cell_type": "markdown",
   "metadata": {},
   "source": [
    "    We're creating a directory ERR2704808.\n",
    "    We're adding ERR2704808 to the database."
   ]
  },
  {
   "cell_type": "markdown",
   "metadata": {},
   "source": [
    "Then the files in fasta format will be downloaded in **REP/sequences/ERR2704808** as in the following code:"
   ]
  },
  {
   "cell_type": "code",
   "execution_count": null,
   "metadata": {},
   "outputs": [],
   "source": [
    "if len([u for u in listdir(rep) if 'fasta' in u]) == 0:\n",
    "    print(\"We're downloading the files in fasta format\")\n",
    "\n",
    "    completed = subprocess.run(['parallel-fastq-dump', '-t', '8', '--split-files', '--fasta', '-O', P_REP, '-s', item])\n",
    "        \n",
    "    # if the download worked\n",
    "    if completed.returncode == 0:\n",
    "        print(\"fasta files successfully downloaded.\")\n",
    "        for k in listdir(P_REP):\n",
    "            if k.endswith('.fasta'):\n",
    "                p = str(PurePath('REP', 'sequences', item, k))\n",
    "                p_k = str(PurePath('REP', k))\n",
    "                move(p_k, p)"
   ]
  },
  {
   "cell_type": "markdown",
   "metadata": {},
   "source": [
    "The ERR2704808_1.fasta and ERR2704808_2.fasta files will be mixed in a new ERR2704808_shuffled.fasta file as in the following code:"
   ]
  },
  {
   "cell_type": "code",
   "execution_count": null,
   "metadata": {},
   "outputs": [],
   "source": [
    "print(\"We're mixing both fasta files, which correspond to the two splits ends.\")\n",
    "\n",
    "if name == 'posix':\n",
    "    for fic in ['_1', '_2']:\n",
    "        system(\"sed -i 's/\" + item + './' + item + fic + \"./g' REP/sequences/\" + item + \"/\" + item + fic + '.fasta')\n",
    "    system(\"cat REP/sequences/\" + item + \"/\" + item + \"_1.fasta \" + \"REP/sequences/\" + item + \"/\" + item + \"_2.fasta > REP/sequences/\" + item + \"/\" + item + \"_shuffled.fasta\")"
   ]
  },
  {
   "cell_type": "markdown",
   "metadata": {},
   "source": [
    "The number of reads represented by '>' in ERR2704808_shuffled.fasta will be counted and assigned to nb, as in the following code:"
   ]
  },
  {
   "cell_type": "code",
   "execution_count": null,
   "metadata": {},
   "outputs": [],
   "source": [
    "if 'nb_reads' not in dico_afr[item] or dico_afr[item]['nb_reads'] == '':\n",
    "    if name == 'posix':\n",
    "        system(\"cat REP/sequences/\" + item + \"/\" + item + \"_shuffled.fasta | grep '>' | wc -l > /tmp/nb.txt\")\n",
    "    nb = eval(open(P_TXT).read().split('\\n')[0])"
   ]
  },
  {
   "cell_type": "markdown",
   "metadata": {},
   "source": [
    "The following information will be displayed:"
   ]
  },
  {
   "cell_type": "markdown",
   "metadata": {},
   "source": [
    "    SRR ids: ['ERR2704808']\n",
    "    extra args: ['--split-files', '--fasta']\n",
    "    tempdir: /tmp/pfd_1a9adanv\n",
    "    ERR2704808 spots: 7152349\n",
    "    blocks: [[1, 894043], [894044, 1788086], [1788087, 2682129], [2682130, 3576172], [3576173, 4470215], [4470216, 5364258], [5364259, 6258301], [6258302, 7152349]]"
   ]
  },
  {
   "cell_type": "markdown",
   "metadata": {},
   "source": [
    "If the NCBI server is busy or your connection unstable, the following message could show up:"
   ]
  },
  {
   "cell_type": "markdown",
   "metadata": {},
   "source": [
    "    2020-05-09T09:25:58 fastq-dump.2.8.2 sys: libs/kns/unix/syssock.c:606:KSocketTimedRead: timeout exhausted while reading file within network system module - mbedtls_ssl_read returned -76 ( NET - Reading information from the socket failed )"
   ]
  },
  {
   "cell_type": "markdown",
   "metadata": {},
   "source": [
    "Ignore the message and let the program run. It might take a while, but you'll eventually find that the download is processing correctly with the following message:"
   ]
  },
  {
   "cell_type": "markdown",
   "metadata": {},
   "source": [
    "    Read 894043 spots for ERR2704808\n",
    "    Written 894043 spots for ERR2704808\n",
    "    fasta files successfully downloaded.\n",
    "    We're mixing both fasta files, which correspond to the two splits ends."
   ]
  },
  {
   "cell_type": "markdown",
   "metadata": {},
   "source": [
    "The cowerage will be calculated and if it is too low the procedure will be cancelled:"
   ]
  },
  {
   "cell_type": "code",
   "execution_count": null,
   "metadata": {},
   "outputs": [],
   "source": [
    "if 'couverture' not in dico_afr[item] or dico_afr[item].get('couverture') == '':\n",
    "    dico_afr[item]['couverture'] = round(dico_afr[item].get('nb_reads') * dico_afr[item].get('len_reads') / TAILLE_GEN, 2)\n",
    "\n",
    "if dico_afr[item].get('couverture') < 50:\n",
    "    del dico_afr[item]\n",
    "    print(f\"The coverage is too low. {item} is being removed from the database\")"
   ]
  },
  {
   "cell_type": "markdown",
   "metadata": {},
   "source": [
    "which will be displayed by:"
   ]
  },
  {
   "cell_type": "markdown",
   "metadata": {},
   "source": [
    "    couverture: 350.2        "
   ]
  },
  {
   "cell_type": "markdown",
   "metadata": {},
   "source": [
    "Then, a database for blast called ERR2704808 will be created in **REP/sequences/ERR2704808/ERR2704808**, as in the code:"
   ]
  },
  {
   "cell_type": "code",
   "execution_count": null,
   "metadata": {},
   "outputs": [],
   "source": [
    "if item+'.nal' not in listdir(rep) and item+'.nin' not in listdir(rep):\n",
    "    print(\"We're creating a database for Blast\")\n",
    "    completed = subprocess.run(['makeblastdb', '-in', p_shuffled, '-dbtype', 'nucl', '-title', item, '-out', repitem])"
   ]
  },
  {
   "cell_type": "markdown",
   "metadata": {},
   "source": [
    "You will then read the following message:"
   ]
  },
  {
   "cell_type": "markdown",
   "metadata": {},
   "source": [
    "    We're creating a database for Blast\n",
    "    Building a new DB, current time: 05/09/2020 12:18:30\n",
    "    New DB name:   /home/stephane/Biologie/env_bio/CRISPRbuilder-TB/REP/sequences/ERR2704808/ERR2704808\n",
    "    New DB title:  ERR2704808\n",
    "    Sequence type: Nucleotide\n",
    "    Keep MBits: T\n",
    "    Maximum file size: 1000000000B\n",
    "    Adding sequences from FASTA; added 14304698 sequences in 1213.96 seconds."
   ]
  },
  {
   "cell_type": "markdown",
   "metadata": {},
   "source": [
    "Some research will eventually be made in the dataset Brynildsrud, according to the code:"
   ]
  },
  {
   "cell_type": "code",
   "execution_count": null,
   "metadata": {},
   "outputs": [],
   "source": [
    "brynildsrud = to_brynildsrud()\n",
    "if item in brynildsrud:\n",
    "    for elt in brynildsrud[item]:\n",
    "        dico_afr[item][elt] = brynildsrud[item][elt]\n",
    "        print(f\"{item} is in the database Brynildsrud\")\n",
    "else:\n",
    "    print(f\"{item} is not in the database Brynildsrud\")"
   ]
  },
  {
   "cell_type": "markdown",
   "metadata": {},
   "source": [
    "If the SRA doesn't belong to the dataset Brynildsrud, the following message will appear:"
   ]
  },
  {
   "cell_type": "markdown",
   "metadata": {},
   "source": [
    "    ERR2704808 is not in the database Brynildsrud"
   ]
  },
  {
   "cell_type": "markdown",
   "metadata": {},
   "source": [
    "Sequences from the fasta files will be added and the spoligotypes will be blasted, as in the code:"
   ]
  },
  {
   "cell_type": "code",
   "execution_count": null,
   "metadata": {},
   "outputs": [],
   "source": [
    " if 'spoligo' not in dico_afr[item] or dico_afr[item]['spoligo'] == '':\n",
    "        print(f\"The spoligotypes are being blasted\")\n",
    "\n",
    "        p_spoligo_old = str(PurePath('data', 'spoligo_old.fasta'))\n",
    "        p_spoligo_new = str(PurePath('data', 'spoligo_new.fasta'))\n",
    "        p_old_blast = str(PurePath('/tmp/' + item + \"_old.blast\"))\n",
    "        p_new_blast = str(PurePath('/tmp/' + item + \"_new.blast\"))\n",
    "\n",
    "        completed = subprocess.run(\"blastn -num_threads 12 -query \" + p_spoligo_old + \" -evalue 1e-6 -task blastn -db \" + repitem + \" -outfmt '10 qseqid sseqid sstart send qlen length score evalue' -out \" + p_old_blast, shell=True)\n",
    "\n",
    "        completed = subprocess.run(\"blastn -num_threads 12 -query \" + p_spoligo_new + \" -evalue 1e-6 -task blastn -db \" + repitem + \" -outfmt '10 qseqid sseqid sstart send qlen length score evalue' -out \" + p_new_blast, shell=True)\n",
    "\n",
    "        for pos, spol in enumerate(['old', 'new']):\n",
    "            p_blast = str(PurePath('/tmp/' + item + '_' + spol + '.blast'))\n",
    "            p_fasta = str(PurePath('data', 'spoligo_' + spol + '.fasta'))\n",
    "\n",
    "            with open(p_blast) as f:\n",
    "                matches = f.read()\n",
    "                nb = open(p_fasta).read().count('>')\n",
    "                for k in range(1, nb + 1):\n",
    "                    if matches.count('espaceur' + spol.capitalize() + str(k) + ',') >= 5:\n",
    "                        dico_afr[item]['spoligo' + ['', '_new'][pos]] += '\\u25A0'\n",
    "                    else:\n",
    "                            dico_afr[item]['spoligo' + ['', '_new'][pos]] += '\\u25A1'\n",
    "\n",
    "            dico_afr[item]['spoligo' + ['', '_new'][pos] + '_nb'] = [matches.count('espaceur' + spol.capitalize() + str(k) + ',') for k in range(1, nb + 1)]"
   ]
  },
  {
   "cell_type": "markdown",
   "metadata": {},
   "source": [
    "You will read the message:"
   ]
  },
  {
   "cell_type": "markdown",
   "metadata": {},
   "source": [
    "    The spoligotypes are being blasted\n",
    "    The spoligo-vitro are being blasted"
   ]
  },
  {
   "cell_type": "markdown",
   "metadata": {},
   "source": [
    "The different files ERR2704808_*.blast will then be moved to the SRA directory."
   ]
  },
  {
   "cell_type": "markdown",
   "metadata": {},
   "source": [
    "As a result, the programm will display the following information:"
   ]
  },
  {
   "cell_type": "markdown",
   "metadata": {},
   "source": [
    "    spoligo: ■□□■■■■□□□□□■■■■■■■■□□□□■■■□□■■■■■■■□□□■■■■\n",
    "\n",
    "    spoligo_nb: [294, 0, 0, 283, 316, 284, 298, 0, 0, 0, 0, 0, 290, 331, 304, 324, 279, 259, 284, 357, 0, 0, 0, 0, 500, 296, 315, 0, 0, 351, 273, 312, 341, 299, 309, 339, 0, 0, 0, 230, 254, 277, 294]\n",
    "\n",
    "    spoligo_new: ■■□□■■■■■■■■■■■■□□□□□□■■■■■■■■□□□□■■■□□■■■■■■■■■■■□□□□□□□□□□■■■■■■■■□□□□□□□□□□□□□□□□□□□□□□□□□□□□□□\n",
    "\n",
    "    spoligo_new_nb: [295, 294, 0, 0, 258, 309, 359, 321, 310, 258, 300, 283, 316, 284, 298, 310, 0, 0, 0, 0, 0, 0, 290, 331, 304, 324, 279, 259, 284, 357, 0, 0, 0, 0, 500, 296, 315, 0, 0, 351, 273, 312, 341, 299, 293, 309, 339, 309, 297, 306, 0, 0, 0, 0, 0, 0, 0, 0, 0, 0, 299, 230, 254, 277, 294, 275, 307, 323, 0, 0, 0, 0, 0, 0, 0, 0, 0, 0, 0, 0, 0, 0, 0, 0, 0, 0, 0, 0, 0, 0, 0, 0, 0, 0, 0, 0, 0, 0]"
   ]
  },
  {
   "cell_type": "markdown",
   "metadata": {},
   "source": [
    "The same process is applied to the spoligotypes_vitro."
   ]
  },
  {
   "cell_type": "markdown",
   "metadata": {},
   "source": [
    "    spoligo_vitro: ■□□■■■■□□□□□■■■■■■■■□□□□■■■□□■■■■■■■□□□■■■■\n",
    "\n",
    "    spoligo_vitro_nb: [(327, 314), (0, 0), (0, 0), (303, 302), (360, 353), (332, 310), (342, 334), (0, 0), (0, 0), (0, 0), (0, 0), (0, 0), (346, 334), (357, 359), (345, 336), (345, 354), (310, 301), (291, 287), (297, 327), (391, 382), (0, 0), (0, 0), (0, 0), (0, 0), (500, 500), (332, 321), (346, 362), (0, 0), (0, 0), (377, 371), (312, 297), (338, 356), (401, 364), (343, 341), (329, 339), (368, 363), (0, 0), (0, 0), (0, 0), (269, 270), (289, 270), (331, 305), (333, 327)]\n",
    "\n",
    "    spoligo_vitro_new: ■■□□■■■■■■■■■■■■□□□□□□■■□■■■■■□□□□■■■□□■■■■■■■■■■■□□□□□□□□□□■■■■■■■■□□□□□□□□□□□□□□□□□□□□□□□□□□□□□□\n",
    "\n",
    "    spoligo_vitro_new_nb: [(347, 325), (327, 314), (0, 0), (0, 0), (298, 280), (338, 353), (396, 396), (375, 355), (351, 335), (288, 285), (329, 329), (303, 302), (360, 353), (332, 310), (342, 334), (344, 329), (0, 0), (0, 0), (0, 0), (0, 0), (0, 0), (0, 0), (346, 334), (357, 359), (0, 301), (345, 354), (310, 301), (291, 287), (297, 327), (391, 382), (0, 0), (0, 0), (0, 0), (0, 0), (500, 500), (332, 321), (346, 362), (0, 0), (0, 0), (377, 371), (312, 297), (338, 356), (401, 364), (343, 341), (341, 326), (329, 339), (368, 363), (341, 337), (338, 337), (362, 338), (0, 0), (0, 0), (0, 0), (0, 0), (0, 0), (0, 0), (0, 0), (0, 0), (0, 0), (0, 0), (336, 338), (269, 270), (289, 270), (331, 305), (332, 327), (313, 293), (322, 335), (347, 371), (0, 0), (0, 0), (0, 0), (0, 0), (0, 0), (0, 0), (0, 0), (0, 0), (0, 0), (0, 0), (0, 0), (0, 0), (0, 0), (0, 0), (0, 0), (0, 0), (300, 0), (0, 0), (0, 0), (0, 0), (0, 0), (0, 0), (0, 0), (0, 0), (0, 0), (0, 0), (0, 0), (0, 0), (0, 0), (0, 0)]"
   ]
  },
  {
   "cell_type": "markdown",
   "metadata": {},
   "source": [
    "The Spoligotype International Type and Spoligotype International Type silico will be retrieved according to the following code:"
   ]
  },
  {
   "cell_type": "code",
   "execution_count": null,
   "metadata": {},
   "outputs": [],
   "source": [
    "if 'SIT' not in dico_afr[item] or dico_afr[item]['SIT'] == '':\n",
    "    add_spoligo_dico('SIT', dico_afr, item, spol_sit)\n",
    "\n",
    "if 'SIT_silico' not in dico_afr[item]:\n",
    "    add_spoligo_dico('SIT_silico', dico_afr, item, spol_sit)"
   ]
  },
  {
   "cell_type": "markdown",
   "metadata": {},
   "source": [
    "which will display the following message:"
   ]
  },
  {
   "cell_type": "markdown",
   "metadata": {},
   "source": [
    "    We're adding the SIT: X to the database\n",
    "    We're adding the SIT_silico: X to the database"
   ]
  },
  {
   "cell_type": "markdown",
   "metadata": {},
   "source": [
    "Finally, the lineage will be defined by comparing the blast files with the different lineages L6+animal, Principal Genotyping Group, Principal Genotyping Group-cp, Coll, Pali, Shitikov and Stucki, as for example in the code:"
   ]
  },
  {
   "cell_type": "code",
   "execution_count": null,
   "metadata": {},
   "outputs": [],
   "source": [
    "if 'lineage_Pali' not in dico_afr[item]:\n",
    "    lignee = []\n",
    "    Lignee_SNP = to_reads('Pali', H37RV)\n",
    "    print(\"We're adding the lineage according to the SNPs Pali\")\n",
    "\n",
    "    for item2, pos0 in enumerate(Lignee_SNP):\n",
    "        seq1, seq2 = Lignee_SNP[pos0][:2]\n",
    "\n",
    "        p_blast = str(PurePath('/tmp/snp_Pali.blast'))\n",
    "        with open(P_FASTA, 'w') as f:\n",
    "            f.write('>\\n' + seq2)\n",
    "        cmd = \"blastn -query \" + P_FASTA + \" -num_threads 12 -evalue 1e-5 -task blastn -db \" + repitem + \" -outfmt '10 sseq' -out \" + p_blast\n",
    "        system(cmd)\n",
    "        \n",
    "        with open(p_blast) as f:\n",
    "            formatted_results = f.read().splitlines()\n",
    "\n",
    "        nb_seq1 = to_nb_seq(seq1, formatted_results, 16, 20, 21, 25)\n",
    "        nb_seq2 = to_nb_seq(seq2, formatted_results, 16, 20, 21, 25)\n",
    "\n",
    "        if nb_seq2 > nb_seq1:\n",
    "            lignee.append(Lignee_SNP[pos0][2])\n",
    "\n",
    "    lignee = [u for u in sorted(set(lignee))]\n",
    "\n",
    "    dico_afr[item]['lineage_Pali'] = lignee"
   ]
  },
  {
   "cell_type": "markdown",
   "metadata": {},
   "source": [
    "During its work the program will display the following message:"
   ]
  },
  {
   "cell_type": "markdown",
   "metadata": {},
   "source": [
    "    We're adding the lineage according to the SNPs L6+animal\n",
    "    We're adding the lineage according to the SNPs PGG\n",
    "    The lineage is being updated.\n",
    "    We're adding the lineage according to the SNPs Coll\n",
    "    We have selected specific reads to compare with different lineages\n",
    "    We're adding the lineage according to the SNPs Pali\n",
    "    We have selected specific reads to compare with different lineages\n",
    "    We're adding the lineage according to the SNPs Shitikov\n",
    "    We have selected specific reads to compare with different lineages\n",
    "    We're adding the lineage according to the SNPs Stucki"
   ]
  },
  {
   "cell_type": "markdown",
   "metadata": {},
   "source": [
    "which will produce the following result:"
   ]
  },
  {
   "cell_type": "markdown",
   "metadata": {},
   "source": [
    "    lineage_L6+animal: 1\n",
    "    lineage_PGG_cp: ['1', 'X']\n",
    "    lineage_PGG: X\n",
    "    lineage_Coll: ['4', '4.9', '5']\n",
    "    lineage_Pali: ['1']\n",
    "    lineage_Shitikov: []\n",
    "    Lignee_Stucki: ['4.10']"
   ]
  },
  {
   "cell_type": "markdown",
   "metadata": {},
   "source": [
    "The length of the reads will also be updated, as in the following code:"
   ]
  },
  {
   "cell_type": "code",
   "execution_count": null,
   "metadata": {},
   "outputs": [],
   "source": [
    "if 'len_reads' not in dico_afr[item]:\n",
    "    len_nb = len(''.join(open(p_shuffled).read(10000).split('>')[1].split('\\n')[1:]))"
   ]
  },
  {
   "cell_type": "markdown",
   "metadata": {},
   "source": [
    "which will be displayed by:"
   ]
  },
  {
   "cell_type": "markdown",
   "metadata": {},
   "source": [
    "    nb_reads: 14304698\n",
    "    len_reads: 108"
   ]
  },
  {
   "cell_type": "markdown",
   "metadata": {},
   "source": [
    "Some general information will be retrieved from the dataset Origines or directly from NCBI, according to the code:"
   ]
  },
  {
   "cell_type": "code",
   "execution_count": null,
   "metadata": {},
   "outputs": [],
   "source": [
    "if 'Source' not in dico_afr[item]:\n",
    "    for u in Origines:\n",
    "        if item in u['run accessions']:\n",
    "            for elt in ['Source', 'Author', 'study accession number', 'location']:\n",
    "                dico_afr[item][elt] = u.get(elt)\n",
    "\n",
    "if 'taxid' not in dico_afr[item]:\n",
    "    dicobis = get_info(item)\n",
    "    for elt in dicobis:\n",
    "        dico_afr[item][elt] = dicobis[elt]"
   ]
  },
  {
   "cell_type": "markdown",
   "metadata": {},
   "source": [
    "If the SRA belongs to Origines, the following message will be displayed:"
   ]
  },
  {
   "cell_type": "markdown",
   "metadata": {},
   "source": [
    "    ERR2704808 is in the database Origines"
   ]
  },
  {
   "cell_type": "markdown",
   "metadata": {},
   "source": [
    "which will produce the following result:"
   ]
  },
  {
   "cell_type": "markdown",
   "metadata": {},
   "source": [
    "    Source: Unexpected Genomic and Phenotypic Diversity of Mycobacterium africanum Lineage 5 Affects Drug Resistance, Protein Secretion, and Immunogenicity\n",
    "    Author: Ates et al. 2018\n",
    "    study accession number: PRJEB25506\n",
    "    location: France\n",
    "    date: 2007\n",
    "    SRA: ERS2280688\n",
    "    center: DST/NRF Centre of Excellence for Biomedical TB research, SAMRC Centre for TB Research\n",
    "    strain: \n",
    "    taxid: 33894\n",
    "    name: Mycobacterium tuberculosis variant africanum\n",
    "    study: ena-STUDY-DST/NRF Centre of Excellence for Biomedical TB research, SAMRC Centre for TB Research-10-03-2018-12:26:21:907-341\n",
    "    bioproject: PRJEB25506"
   ]
  }
 ],
 "metadata": {
  "celltoolbar": "Aucun(e)",
  "kernelspec": {
   "display_name": "Python 3",
   "language": "python",
   "name": "python3"
  },
  "language_info": {
   "codemirror_mode": {
    "name": "ipython",
    "version": 3
   },
   "file_extension": ".py",
   "mimetype": "text/x-python",
   "name": "python",
   "nbconvert_exporter": "python",
   "pygments_lexer": "ipython3",
   "version": "3.6.5"
  }
 },
 "nbformat": 4,
 "nbformat_minor": 4
}

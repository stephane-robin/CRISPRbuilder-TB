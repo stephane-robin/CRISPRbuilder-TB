{
 "cells": [
  {
   "cell_type": "markdown",
   "metadata": {},
   "source": [
    "![Femto](femto.png)"
   ]
  },
  {
   "cell_type": "markdown",
   "metadata": {},
   "source": [
    "\n"
   ]
  },
  {
   "cell_type": "markdown",
   "metadata": {},
   "source": [
    "# Documentation for CRISPRbuilder_TB"
   ]
  },
  {
   "cell_type": "markdown",
   "metadata": {},
   "source": [
    "\n"
   ]
  },
  {
   "cell_type": "markdown",
   "metadata": {},
   "source": [
    "The CRISPRbuilder_TB package is an open source software made available under generous terms. Please see the LICENSE file for further details.\n",
    "\n",
    "If you use CRISPRbuilder_TB in work contributing to a scientific publication, we ask that you cite the following application note: Femto-ST Institute, UMR 6174 CNRS, University of Bourgogne Franche-Comté, France.\n",
    "\n",
    "This package originated in the work of [[1]](#id1) and [[2]](#id2).\n"
   ]
  },
  {
   "cell_type": "markdown",
   "metadata": {},
   "source": [
    "## Purpose of this package"
   ]
  },
  {
   "cell_type": "markdown",
   "metadata": {},
   "source": [
    "CRISPRbuilder_TB will help you collect and annotate Mycobacterium tuberculosis whole genome sequencing data for CRISPR investigations. Given a Sequence Read Archive reference, the package will provide the genome information dictionary comprising the following elements:\n",
    "\n",
    "* the reads - number of reads for the study, length of those reads, coverage of the study,\n",
    "\n",
    "* the study - source of publication for the SRA reference, authors who discovered it, location of discovery, date of discovery, center that discovered the SRA, reference of the study, study accession number,\n",
    "\n",
    "* identity - name of the SRA reference, strain for the SRA, taxid, bioproject number,\n",
    "\n",
    "* spoligotypes - description, numbers, new version numbers, vitro description, vitro numbers, vitro new version description, vitro new version numbers, Spoligotype International Type, Spoligotype International Type silico,\n",
    "\n",
    "* lineages - Coll et al. 2014 (for all lineages) [[Coll]](#id3), Stucki et al. 2016 (for Lineage 4) [[Stucki]](#id4), Palittapongarnpim et al. 2018 (for Lineage 1) [[Pali]](#id5), Shitikov et al. 2017 (for Lineage 2) [[Shitikov]](#id6)."
   ]
  },
  {
   "cell_type": "markdown",
   "metadata": {},
   "source": [
    "## How to install the package ?"
   ]
  },
  {
   "cell_type": "markdown",
   "metadata": {},
   "source": [
    "Make sure your system is set to **Python 3** in your current directory and `pip` is set to work with Python 3, before using the `pip` instruction and executing the package. The default version of Python on your computer might be different. You can also check that `pip`is linked to Python 3 by writing `pip --version`, which will display a line similar to"
   ]
  },
  {
   "cell_type": "markdown",
   "metadata": {},
   "source": [
    "    pip 20.1.1 from ~/pyenv/versions/3.8.0/lib/python3.8/site-packages/pip (python 3.8)"
   ]
  },
  {
   "cell_type": "markdown",
   "metadata": {},
   "source": [
    "When installing CRISPRbuilder_TB, the following dependencies will be automatically installed, and will have no further action to take:\n",
    "* xmltodict\n",
    "* xlrd\n",
    "* biopython\n",
    "* numpy"
   ]
  },
  {
   "cell_type": "markdown",
   "metadata": {},
   "source": [
    "Please note that CRISPRbuilder_TB requires a recent version of Python (3.6 or higher), and the installation process will seek such a version."
   ]
  },
  {
   "cell_type": "markdown",
   "metadata": {},
   "source": [
    "Prior to the installation, it is important that your system is correctly set for using NCBI tools *parallel-fastq-dump* and *blast*. The installation process will require these dependencies, but will not set the environment variable \\$PATH to find them on your system. You will need to do it manually by updating the *~/.bashrc* like it is explained in [https://opensource.com/article/17/6/set-path-linux](https://opensource.com/article/17/6/set-path-linux). We recommand that you use *Anaconda*, which provides a simple way to update the \\$PATH and download these packages with the command lines"
   ]
  },
  {
   "cell_type": "markdown",
   "metadata": {},
   "source": [
    "    conda install -c bioconda parallel-fastq-dump\n",
    "    conda install -c bioconda blast\n",
    "    conda install -c kantorlab blastn"
   ]
  },
  {
   "cell_type": "markdown",
   "metadata": {},
   "source": [
    "This package comes with a Command Line Interface, so it should be installed and executed using your command prompt. For Linux, macOS or Windows platforms, the installation requires the same instruction. From your current directory, execute the following line:"
   ]
  },
  {
   "cell_type": "markdown",
   "metadata": {},
   "source": [
    "    pip install crisprbuilder_tb"
   ]
  },
  {
   "cell_type": "markdown",
   "metadata": {},
   "source": [
    "Please note that `cripsrbuilder_tb` is written without capital letters in the command prompt."
   ]
  },
  {
   "cell_type": "markdown",
   "metadata": {},
   "source": [
    "First the program will download the last version of CRISPRbuilder_TB, and the dependencies xmltodict, parallel-fastq-dump, xlrd, biopython, numpy. Then it will install the dependencies and the package."
   ]
  },
  {
   "cell_type": "markdown",
   "metadata": {},
   "source": [
    "    Collecting crisprbuilder_tb\n",
    "    Collecting xmltodict<0.13.0,>=0.12.0 (from crisprbuilder_tb)\n",
    "    Collecting xlrd<2.0.0,>=1.2.0 (from crisprbuilder_tb)\n",
    "    Collecting parallel-fastq-dump<0.7.0,>=0.6.5 (from crisprbuilder_tb)\n",
    "    Collecting biopython <2.0,>=1.77 (from crisprbuilder_tb)\n",
    "    Collecting numpy (from biopython<2.0,>=1.77->crisprbuilder_tb)\n",
    "    Installing collected packages: xmltodict, xlrd, parallel-fastq-dump, numpy, biopython, crisprbuilder_tb\n",
    "    Successfully installed biopython-1.77 crisprbuilder_tb-1.2.0 numpy-1.19.0 parallel-fastq-dump-0.6.5 xlrd-1.2.0 xmltodict-0.12.0"
   ]
  },
  {
   "cell_type": "markdown",
   "metadata": {},
   "source": [
    " It is not necessary to first install the dependencies, since CRISPRbuilder_TB will deal with them on its own."
   ]
  },
  {
   "cell_type": "markdown",
   "metadata": {},
   "source": [
    "If a previous version of CRISPRbuilder_TB already exists on your computer, you can upgrade it using "
   ]
  },
  {
   "cell_type": "markdown",
   "metadata": {},
   "source": [
    "    pip install --upgrade crisprbuilder_tb"
   ]
  },
  {
   "cell_type": "markdown",
   "metadata": {},
   "source": [
    "If this instruction doesn't work, you can enforce the upgrade by first removing the package before installing it again"
   ]
  },
  {
   "cell_type": "markdown",
   "metadata": {},
   "source": [
    "    pip uninstall crisprbuilder_tb\n",
    "    pip install crisprbuilder_tb"
   ]
  },
  {
   "cell_type": "markdown",
   "metadata": {},
   "source": [
    "You can also choose a specific version of the package on PyPI, like for example"
   ]
  },
  {
   "cell_type": "markdown",
   "metadata": {},
   "source": [
    "    pip install crisprbuilder_tb==1.2.0"
   ]
  },
  {
   "cell_type": "markdown",
   "metadata": {},
   "source": [
    "CRISPRbuilder_TB is not referenced in the Anaconda Cloud. So it is not possible to install the package with the instruction"
   ]
  },
  {
   "cell_type": "markdown",
   "metadata": {},
   "source": [
    "    conda install crisprbuilder_tb"
   ]
  },
  {
   "cell_type": "markdown",
   "metadata": {},
   "source": [
    "## How to use the Command Line Interface ?"
   ]
  },
  {
   "cell_type": "markdown",
   "metadata": {},
   "source": [
    "After installing the package, you can find help with the command prompt, listing the different available options, such as `--collect`, `--list`, `--add`, `--print`, `--remove`, `--change`, and their expected syntax. Stay in the directory containing the installed package and write in the command prompt:"
   ]
  },
  {
   "cell_type": "markdown",
   "metadata": {},
   "source": [
    "    python -m crisprbuilder_tb --help"
   ]
  },
  {
   "cell_type": "markdown",
   "metadata": {},
   "source": [
    "The help menu will display the following information:"
   ]
  },
  {
   "cell_type": "markdown",
   "metadata": {},
   "source": [
    "    usage: crisprbuilder_tb [-h] [--collect] [--list] [--add] [--remove] [--change] [--print] sra\n",
    "\n",
    "    Collects and annotates Mycobacterium tuberculosis whole genome sequencing data for CRISPR investigation.\n",
    "\n",
    "    positional arguments:\n",
    "      sra         requires the reference of a SRA, the path to a file of SRA references or 0. See doc.\n",
    "\n",
    "    optional arguments:\n",
    "      -h, --help  show this help message and exit\n",
    "      --collect   collects the reference of a SRA to get information about this SRA. See doc.\n",
    "      --list      collects the path to a file of SRA references to get information about. See doc.\n",
    "      --add       collects data to add to the file data/lineage.csv. Requires 0 as argument. See doc.\n",
    "      --remove    removes data from the file data/lineage.csv. Requires 0 as argument. See doc.\n",
    "      --change    collects data to update the file data/lineage.csv. Requires 0 as argument. See doc.\n",
    "      --print     prints the file data/lineage.csv. Requires 0 as argument. See doc."
   ]
  },
  {
   "cell_type": "markdown",
   "metadata": {},
   "source": [
    "### Executing CRISPRbuilder_TB with a SRA reference"
   ]
  },
  {
   "cell_type": "markdown",
   "metadata": {},
   "source": [
    "You can run the package if you wish to find information regarding a specific SRA. From your current directory, write in the command prompt:"
   ]
  },
  {
   "cell_type": "markdown",
   "metadata": {},
   "source": [
    "    python -m crisprbuilder_tb --collect {SRA_reference}"
   ]
  },
  {
   "cell_type": "markdown",
   "metadata": {},
   "source": [
    "Please note the importance of \"-m\" to run crisprbuilder_tb as a package, otherwise the interpreter will look at crisprbuilder_tb as a folder inside the current folder and not a package. \n",
    "CRISPRbuilder_TB uses version 3 of Python, so make sure your system is set to Python 3 in your current directory before using the `python`instruction. The default version on your computer might be different.\n",
    "\n",
    "**Caution:** it is not recommanded to find the location of the package and go to the directory containing CRISPRbuilder_TB in order to execute it. If you are doing so, the instruction above won't work."
   ]
  },
  {
   "cell_type": "markdown",
   "metadata": {},
   "source": [
    "**Exemple:** to find information about SRR8368696, write:"
   ]
  },
  {
   "cell_type": "markdown",
   "metadata": {},
   "source": [
    "    python -m crisprbuilder_tb --collect SRR8368696"
   ]
  },
  {
   "cell_type": "markdown",
   "metadata": {},
   "source": [
    "### Executing CRISPRbuilder_TB with a list of SRA references"
   ]
  },
  {
   "cell_type": "markdown",
   "metadata": {},
   "source": [
    "To run the package with a list of SRA references, this list must be composed of one SRA reference per line in a txt format file. Then, if you wish to find information regarding a list of specific SRAs, stay in the directory containing the package and write in the command prompt:"
   ]
  },
  {
   "cell_type": "markdown",
   "metadata": {},
   "source": [
    "    python -m crisprbuilder_tb --list {path_to_the_file}"
   ]
  },
  {
   "cell_type": "markdown",
   "metadata": {},
   "source": [
    "**Exemple:** to find information about the different SRAs included in the file **my_file.txt** from the **Documents** directory, write:"
   ]
  },
  {
   "cell_type": "markdown",
   "metadata": {},
   "source": [
    "    python -m crisprbuilder_tb --list /Documents/my_file.txt"
   ]
  },
  {
   "cell_type": "markdown",
   "metadata": {},
   "source": [
    "### Printing the database lineage.csv"
   ]
  },
  {
   "cell_type": "markdown",
   "metadata": {},
   "source": [
    "If you want to consult the **lineage.csv** database, stay in the directory containing the package and write in the command prompt:"
   ]
  },
  {
   "cell_type": "markdown",
   "metadata": {},
   "source": [
    "    python -m crisprbuilder_tb --print 0"
   ]
  },
  {
   "cell_type": "markdown",
   "metadata": {},
   "source": [
    "**Caution:** it is necessary to add the 0 after `--print`.\n",
    "\n",
    "The program will then display the content of the database **lineage.csv** whose extract can be read below:"
   ]
  },
  {
   "cell_type": "markdown",
   "metadata": {},
   "source": [
    "    lineage, Position, Gene coord., Allele change, Codon number, Codon change, Amino acid change, Locus Id, Gene name, Gene type, Type of mutation, 5' gene, 3' gene, Strand, Sublineage surname, Essential, Origin,\n",
    "    4.1.1, 3798451, , C/G, , GGG/GGC, G/G, Rv3383c, idsB, non essential, syn, 3797437, 398489, -, X, , Stucki et al.,\n",
    "    4.1.2, 3013784, , C/G, , GTC/CTC, V/L, Rv2697c, dut, ess, non-syn, 3013683, 3014147, -, Haarlem, , Stucki et al.,\n",
    "    4.1.3, 4409231, , T/G, , GAG/GCG, E/A, Rv3921c, -, ess, 4280033, 4408969, 4410069, -, Ghana, , Stucki et al.,\n",
    "    4.2, 2181026, , G/C, , CCC/CCG, P/P, Rv1928c, , non essential, syn, 2180450, 2181217, -, -, , Stucki et al., \n",
    "    4.3, 1480024, , G/T, , TTC/TTA, F/L, Rv1318c, , non essential, non-syn, 1479199, 1480824, -, LAM, , Stucki et al.,\n",
    "    4.4, 3966059, , G/C, , ACG/AGG, T/R, Rv3529c, -, non essential, non-syn, 3965884, 3967038, -, -, , Stucki et al.,"
   ]
  },
  {
   "cell_type": "markdown",
   "metadata": {},
   "source": [
    "### Adding a record to lineage.csv"
   ]
  },
  {
   "cell_type": "markdown",
   "metadata": {},
   "source": [
    "If you want to add a record to the **lineage.csv** database, stay in the directory containing the package and write in the command line:"
   ]
  },
  {
   "cell_type": "markdown",
   "metadata": {},
   "source": [
    "    python -m crisprbuilder_tb --add 0"
   ]
  },
  {
   "cell_type": "markdown",
   "metadata": {},
   "source": [
    "**Caution:** it is necessary to add the 0 after `--add`.\n",
    "\n",
    "You will then be asked the values of the different fields (lineage, position, gene coordinates, allege change, codon number, codon change, amino acide change, locus ID, gene name, gene type, type of mutation, 5' gene, 3' gene, strand, sublineage surname, essential, origin of the study). In case you don't know the value of a particular field, just press enter."
   ]
  },
  {
   "cell_type": "markdown",
   "metadata": {},
   "source": [
    "### Removing a record from lineage.csv"
   ]
  },
  {
   "cell_type": "markdown",
   "metadata": {},
   "source": [
    "If you want to remove a record from the **lineage.csv** database, stay in the directory containing the package and write in the command line:"
   ]
  },
  {
   "cell_type": "markdown",
   "metadata": {},
   "source": [
    "    python -m crisprbuilder_tb --remove 0"
   ]
  },
  {
   "cell_type": "markdown",
   "metadata": {},
   "source": [
    "**Caution:** it is necessary to add the 0 after `--remove`.\n",
    "\n",
    "After your confirmation for removal, you will be asked for the reference of the line you wish to delete, which consists of the lineage and the position (see below). If you don't know this reference, you can always print the **lineage.csv** database beforehand to find it."
   ]
  },
  {
   "cell_type": "markdown",
   "metadata": {},
   "source": [
    "![selection](selection.png)"
   ]
  },
  {
   "cell_type": "markdown",
   "metadata": {},
   "source": [
    "The execution of the code will end with:"
   ]
  },
  {
   "cell_type": "markdown",
   "metadata": {},
   "source": [
    "    The line has been removed."
   ]
  },
  {
   "cell_type": "markdown",
   "metadata": {},
   "source": [
    "or"
   ]
  },
  {
   "cell_type": "markdown",
   "metadata": {},
   "source": [
    "    Your request was cancelled."
   ]
  },
  {
   "cell_type": "markdown",
   "metadata": {},
   "source": [
    "in case the SRA reference is not correct."
   ]
  },
  {
   "cell_type": "markdown",
   "metadata": {},
   "source": [
    "### Changing a record from lineage.csv"
   ]
  },
  {
   "cell_type": "markdown",
   "metadata": {},
   "source": [
    "If you want to change a record from the **lineage.csv** database, stay in the directory containing the package and write in the command line: "
   ]
  },
  {
   "cell_type": "markdown",
   "metadata": {},
   "source": [
    "    python -m crisprbuilder_tb --change 0"
   ]
  },
  {
   "cell_type": "markdown",
   "metadata": {},
   "source": [
    "**Caution:** it is necessary to add the 0 after `--change`.\n",
    "\n",
    "After confirmation for change, you will be asked for the reference of the line you wish to delete, which consists of the lineage and the position (see below). If you don't know the reference, you can always print the **lineage.csv** database beforehand to find it."
   ]
  },
  {
   "cell_type": "markdown",
   "metadata": {},
   "source": [
    "![selection](selection.png)"
   ]
  },
  {
   "cell_type": "markdown",
   "metadata": {},
   "source": [
    "You will then be asked the values of the different fields: lineage, position, gene coordinates, allege change, codon number, codon change, amino acide change, locus ID, gene name, gene type, type of mutation, 5' gene, 3' gene, strand, sublineage surname, essential, origin of the study. In case you don't know the value of a particular field, just press enter."
   ]
  },
  {
   "cell_type": "markdown",
   "metadata": {},
   "source": [
    "The execution of the code will end with:"
   ]
  },
  {
   "cell_type": "markdown",
   "metadata": {},
   "source": [
    "    The line has been changed."
   ]
  },
  {
   "cell_type": "markdown",
   "metadata": {},
   "source": [
    "or"
   ]
  },
  {
   "cell_type": "markdown",
   "metadata": {},
   "source": [
    "    Your request was cancelled."
   ]
  },
  {
   "cell_type": "markdown",
   "metadata": {},
   "source": [
    "## Composition of the package and dependencies"
   ]
  },
  {
   "cell_type": "markdown",
   "metadata": {},
   "source": [
    "CRISPRbuilder_TB needs the following dependencies to work:\n",
    "\n",
    "* python = \"^3.6.4\"\n",
    "* xlrd = \"^1.2.0\"\n",
    "* openpyxl = \"^3.0.3\"\n",
    "* xmltodict = \"^0.12.0\"\n",
    "* biopython = \"^1.76\"\n",
    "* datetime = \"^4.3\"\n",
    "* parallel-fastq-dump\n",
    "* balstn+\n",
    "\n",
    "These different versions are automatically downloaded when installing CRISPRbuilder_TB. Please note that this package doesn't support Python 2."
   ]
  },
  {
   "cell_type": "markdown",
   "metadata": {},
   "source": [
    "The package structure is the following:"
   ]
  },
  {
   "cell_type": "markdown",
   "metadata": {},
   "source": [
    "* The **\\_\\_main\\_\\_.py** and **fonctions.py** files contain the actual code for the package,\n",
    "* the **bdd.py** file contains the Origines dictionary,\n",
    "* The **data** directory contains the necessary database to compare with the SRA reference when the code is executed,\n",
    "* The **REP/sequences** directory contains the different result database for each execution of the code. For example, you can find a directory ERR2704808 containing the fasta files ERR2704808_1.fasta, ERR2704808_2.fasta and ERR2704808_shuffled.fasta along with the files ERR2704808.00.nhr, ERR2704808.00.nin, ERR2704808.00.nsq, ERR2704808.nal and the directory ERR2704808 containing the blast database. That's typically where you can find the files ERR2704808_old.blast and ERR2704808_new.blast.\n",
    "* The **doc** directory contains the necessary documentation to explain how this package works. It includes a **README.md** file explaining how to install the package for those who just need the essential, the copyright conditions for this package with the **LICENSE** file and the present documentation."
   ]
  },
  {
   "cell_type": "markdown",
   "metadata": {},
   "source": [
    "![tree](rep_crispr.png)"
   ]
  },
  {
   "cell_type": "markdown",
   "metadata": {},
   "source": [
    "## Retrieving the genome information dictionary"
   ]
  },
  {
   "cell_type": "markdown",
   "metadata": {},
   "source": [
    "Let's assume you're looking for information regarding ERR2704808. After writing `python3 -m crisprbuilder_tb --collect ERR2704808` in the command prompt, a directory called **ERR2704808** will be created in **REP/sequences** and the item ERR2704808 will be added to the database. The following message will be displayed:"
   ]
  },
  {
   "cell_type": "markdown",
   "metadata": {},
   "source": [
    "    We're creating a directory ERR2704808.\n",
    "    We're adding ERR2704808 to the database."
   ]
  },
  {
   "cell_type": "markdown",
   "metadata": {},
   "source": [
    "Then the files in fasta format will be downloaded to **REP/sequences/ERR2704808** as in the following code:"
   ]
  },
  {
   "cell_type": "code",
   "execution_count": null,
   "metadata": {},
   "outputs": [],
   "source": [
    "if len([u for u in listdir(rep) if 'fasta' in u]) == 0:\n",
    "    print(\"We're downloading the files in fasta format\")\n",
    "\n",
    "    try:\n",
    "        completed = subprocess.run(['parallel-fastq-dump', '-t', '8',\n",
    "                                    '--split-files', '--fasta', '-O', P_REP,\n",
    "                                    '-s', item], check=True)\n",
    "        completed.check_returncode()\n",
    "        # if the download worked\n",
    "        print(\"fasta files successfully downloaded.\")\n",
    "        for k in listdir(P_REP):\n",
    "            if k.endswith('.fasta'):\n",
    "                p_item_k = str(PurePath(crisprbuilder_tb.__path__[0], 'REP',\n",
    "                                        'sequences', item, k))\n",
    "                p_k = str(PurePath(crisprbuilder_tb.__path__[0], 'REP', k))\n",
    "                try:\n",
    "                    move(p_k, p_item_k)\n",
    "                except FileNotFoundError:\n",
    "                    print(\"We can't transfer the fasta files in the proper \"\n",
    "                          \"repository.\")\n",
    "    except subprocess.CalledProcessError:\n",
    "        # if the download didn't work, we delete the SRA from dico_afr\n",
    "        del dico_afr[item]\n",
    "        print(\"Failed to download fasta files.\")"
   ]
  },
  {
   "cell_type": "markdown",
   "metadata": {},
   "source": [
    "If ERR2704808_shuffled.fasta is not in the **ERR2704808** directory, then the ERR2704808_1.fasta and ERR2704808_2.fasta files will be mixed in a new ERR2704808_shuffled.fasta file in the **ERR2704808** directory, as in the following code:"
   ]
  },
  {
   "cell_type": "code",
   "execution_count": null,
   "metadata": {},
   "outputs": [],
   "source": [
    "p_shuffled = str(PurePath(crisprbuilder_tb.__path__[0], 'REP', 'sequences',\n",
    "                          item, item + '_shuffled.fasta'))\n",
    "    if item + '_shuffled.fasta' not in listdir(rep):\n",
    "\n",
    "        print(\"We're mixing both fasta files, which correspond to the two \"\n",
    "              \"splits ends.\")\n",
    "\n",
    "        p_fasta_1 = str(PurePath(crisprbuilder_tb.__path__[0], 'REP',\n",
    "                                 'sequences', item, item + '_1.fasta'))\n",
    "        p_fasta_2 = str(PurePath(crisprbuilder_tb.__path__[0], 'REP',\n",
    "                                 'sequences', item, item + '_2.fasta'))\n",
    "\n",
    "        if name == 'posix':\n",
    "            system(\"sed -i 's/\" + item + './' + item + \"_1./g' \" + p_fasta_1)\n",
    "            system(\"sed -i 's/\" + item + './' + item + \"_2./g' \" + p_fasta_2)\n",
    "            system(\"cat \" + p_fasta_1 + \" \" + p_fasta_2 + \" > \" + p_shuffled)\n",
    "        else:\n",
    "            fonctions.change_elt_file(p_fasta_1, '_1', item)\n",
    "            fonctions.change_elt_file(p_fasta_2, '_2', item)\n",
    "            fonctions.concat(p_fasta_1, p_fasta_2, p_shuffled)"
   ]
  },
  {
   "cell_type": "markdown",
   "metadata": {},
   "source": [
    "The number of reads represented by '>' in ERR2704808_shuffled.fasta will be counted and assigned to nb_reads, as in the following code:"
   ]
  },
  {
   "cell_type": "code",
   "execution_count": null,
   "metadata": {},
   "outputs": [],
   "source": [
    "if 'nb_reads' not in dico_afr[item] or dico_afr[item]['nb_reads'] == '':\n",
    "    if name == 'posix':\n",
    "        system(\"cat \" + p_shuffled + \" | grep '>' | wc -l > \" + P_TXT_POSIX)\n",
    "        nb_reads = eval(open(P_TXT_POSIX).read().split('\\n')[0])\n",
    "    else:\n",
    "        with open(p_shuffled, 'r') as f_in, open(P_TXT_WIN, 'w') as f_out:\n",
    "            lignes = f_in.readlines()\n",
    "            cpt = 0\n",
    "            for elt in lignes:\n",
    "                cpt += elt.count('>')\n",
    "                f_out.write(str(cpt))\n",
    "        nb_reads = eval(open(P_TXT_WIN).read().split('\\n')[0])\n",
    "\n",
    "    dico_afr[item]['nb_reads'] = nb_reads"
   ]
  },
  {
   "cell_type": "markdown",
   "metadata": {},
   "source": [
    "The length of the reads will be evaluated from ERR2704808_shuffled.fasta as in the following code:"
   ]
  },
  {
   "cell_type": "code",
   "execution_count": null,
   "metadata": {},
   "outputs": [],
   "source": [
    "if 'len_reads' not in dico_afr[item]:\n",
    "    nb_len = len(''.join(open(p_shuffled).read(10000).split('>')[1].split(\n",
    "                 '\\n')[1:]))\n",
    "    dico_afr[item]['len_reads'] = nb_len"
   ]
  },
  {
   "cell_type": "markdown",
   "metadata": {},
   "source": [
    "which eventually will be displayed by:"
   ]
  },
  {
   "cell_type": "markdown",
   "metadata": {},
   "source": [
    "    nb_reads: 14304698\n",
    "    len_reads: 108"
   ]
  },
  {
   "cell_type": "markdown",
   "metadata": {},
   "source": [
    "When starting the download, the following information will be displayed:"
   ]
  },
  {
   "cell_type": "markdown",
   "metadata": {},
   "source": [
    "    SRR ids: ['ERR2704808']\n",
    "    extra args: ['--split-files', '--fasta']\n",
    "    tempdir: /tmp/pfd_1a9adanv\n",
    "    ERR2704808 spots: 7152349\n",
    "    blocks: [[1, 894043], [894044, 1788086], [1788087, 2682129], [2682130, 3576172], [3576173, 4470215], [4470216, 5364258], [5364259, 6258301], [6258302, 7152349]]"
   ]
  },
  {
   "cell_type": "markdown",
   "metadata": {},
   "source": [
    "If the NCBI server is busy or your connection unstable, the following message could show up:"
   ]
  },
  {
   "cell_type": "markdown",
   "metadata": {},
   "source": [
    "    2020-05-09T09:25:58 fastq-dump.2.8.2 sys: libs/kns/unix/syssock.c:606:KSocketTimedRead: timeout exhausted while reading file within network system module - mbedtls_ssl_read returned -76 ( NET - Reading information from the socket failed )"
   ]
  },
  {
   "cell_type": "markdown",
   "metadata": {},
   "source": [
    "Ignore the message and let the program run. It might take a while, but you'll eventually find that the download is processing correctly with the following message:"
   ]
  },
  {
   "cell_type": "markdown",
   "metadata": {},
   "source": [
    "    Read 894043 spots for ERR2704808\n",
    "    Written 894043 spots for ERR2704808\n",
    "    fasta files successfully downloaded.\n",
    "    We're mixing both fasta files, which correspond to the two splits ends."
   ]
  },
  {
   "cell_type": "markdown",
   "metadata": {},
   "source": [
    "The coverage will be calculated and, if it is too low, the procedure will be cancelled:"
   ]
  },
  {
   "cell_type": "code",
   "execution_count": null,
   "metadata": {},
   "outputs": [],
   "source": [
    "if 'couverture' not in dico_afr[item] or \\\n",
    "        dico_afr[item].get('couverture') == '':\n",
    "    dico_afr[item]['couverture'] = round(dico_afr[item].get('nb_reads') *\n",
    "                                         dico_afr[item].get('len_reads') /\n",
    "                                         TAILLE_GEN, 2)\n",
    "        \n",
    "if dico_afr[item].get('couverture') < 50:\n",
    "    del dico_afr[item]\n",
    "    print(f\"The coverage is too low. {item} is being removed from the \"\n",
    "          \"database\")"
   ]
  },
  {
   "cell_type": "markdown",
   "metadata": {},
   "source": [
    "which will be displayed by:"
   ]
  },
  {
   "cell_type": "markdown",
   "metadata": {},
   "source": [
    "    couverture: 350.2        "
   ]
  },
  {
   "cell_type": "markdown",
   "metadata": {},
   "source": [
    "Then, a database for blast will be created in **REP/sequences/ERR2704808/ERR2704808**, as in the code:"
   ]
  },
  {
   "cell_type": "code",
   "execution_count": null,
   "metadata": {},
   "outputs": [],
   "source": [
    "if item+'.nal' not in listdir(rep) and item+'.nin' not in listdir(rep):\n",
    "    print(\"We're creating a database for Blast\")\n",
    "    try:\n",
    "        completed = subprocess.run(['makeblastdb', '-in', p_shuffled,\n",
    "                                    '-dbtype', 'nucl', '-title', item,\n",
    "                                    '-out', repitem], check=True)\n",
    "        completed.check_returncode()\n",
    "    except subprocess.CalledProcessError:\n",
    "        print(\"We can't proceed blasting file.\")"
   ]
  },
  {
   "cell_type": "markdown",
   "metadata": {},
   "source": [
    "You will then read the following message:"
   ]
  },
  {
   "cell_type": "markdown",
   "metadata": {},
   "source": [
    "    We're creating a database for Blast\n",
    "    Building a new DB, current time: 05/09/2020 12:18:30\n",
    "    New DB name:   /home/stephane/Biologie/env_bio/CRISPRbuilder-TB/REP/sequences/ERR2704808/ERR2704808\n",
    "    New DB title:  ERR2704808\n",
    "    Sequence type: Nucleotide\n",
    "    Keep MBits: T\n",
    "    Maximum file size: 1000000000B\n",
    "    Adding sequences from FASTA; added 14304698 sequences in 1213.96 seconds."
   ]
  },
  {
   "cell_type": "markdown",
   "metadata": {},
   "source": [
    "Some research will eventually be made in the dataset Brynildsrud, according to the code:"
   ]
  },
  {
   "cell_type": "code",
   "execution_count": null,
   "metadata": {},
   "outputs": [],
   "source": [
    "brynildsrud = fonctions.to_brynildsrud()\n",
    "if item in brynildsrud:\n",
    "    for elt in brynildsrud[item]:\n",
    "        dico_afr[item][elt] = brynildsrud[item][elt]\n",
    "        print(f\"{item} is in the database Brynildsrud\")\n",
    "else:\n",
    "    print(f\"{item} is not in the database Brynildsrud\")"
   ]
  },
  {
   "cell_type": "markdown",
   "metadata": {},
   "source": [
    "If ERR2704808 doesn't belong to the dataset Brynildsrud, the following message will appear:"
   ]
  },
  {
   "cell_type": "markdown",
   "metadata": {},
   "source": [
    "    ERR2704808 is not in the database Brynildsrud"
   ]
  },
  {
   "cell_type": "markdown",
   "metadata": {},
   "source": [
    "Sequences from the fasta files will be added and the spoligotypes will be blasted, as in the code:"
   ]
  },
  {
   "cell_type": "code",
   "execution_count": null,
   "metadata": {},
   "outputs": [],
   "source": [
    "if 'spoligo' not in dico_afr[item] or dico_afr[item]['spoligo'] == '':\n",
    "    print(\"The spoligotypes are being blasted\")\n",
    "    dico_afr[item]['spoligo'] = ''\n",
    "    dico_afr[item]['spoligo_new'] = ''\n",
    "\n",
    "    p_spoligo_old = str(PurePath(crisprbuilder_tb.__path__[0], 'data',\n",
    "                                 'spoligo_old.fasta'))\n",
    "    p_spoligo_new = str(PurePath(crisprbuilder_tb.__path__[0], 'data',\n",
    "                                 'spoligo_new.fasta'))\n",
    "    p_old_blast = str(PurePath(crisprbuilder_tb.__path__[0], 'tmp', item\n",
    "                               + \"_old.blast\"))\n",
    "    p_new_blast = str(PurePath(crisprbuilder_tb.__path__[0], 'tmp', item\n",
    "                               + \"_new.blast\"))\n",
    "\n",
    "    try:\n",
    "        completed = subprocess.run(\"blastn -num_threads 12 -query \" +\n",
    "                                   p_spoligo_old + \" -evalue 1e-6 -task \"\n",
    "                                   \"blastn -db \" + repitem + \" -outfmt \"\n",
    "                                   \"'10 qseqid sseqid sstart send qlen \"\n",
    "                                   \"length score evalue' -out \" +\n",
    "                                   p_old_blast, shell=True, check=True)\n",
    "        completed.check_returncode()\n",
    "    except subprocess.CalledProcessError:\n",
    "        print(\"We can't proceed blasting file.\")\n",
    "\n",
    "    try:\n",
    "        completed = subprocess.run(\"blastn -num_threads 12 -query \" +\n",
    "                                   p_spoligo_new + \" -evalue 1e-6 -task \"\n",
    "                                   \"blastn -db \" + repitem + \" -outfmt \"\n",
    "                                   \"'10 qseqid sseqid sstart send qlen \"\n",
    "                                   \"length score evalue' -out \" +\n",
    "                                   p_new_blast, shell=True, check=True)\n",
    "        completed.check_returncode()\n",
    "    except subprocess.CalledProcessError:\n",
    "        print(\"We can't proceed blasting file.\")\n",
    "\n",
    "    for pos, spol in enumerate(['old', 'new']):\n",
    "        p_blast = str(PurePath(crisprbuilder_tb.__path__[0], 'tmp', item\n",
    "                               + '_' + spol + '.blast'))\n",
    "        p_fasta = str(PurePath(crisprbuilder_tb.__path__[0], 'data',\n",
    "                               'spoligo_' + spol + '.fasta'))\n",
    "\n",
    "        with open(p_blast) as file:\n",
    "            matches = file.read()\n",
    "            nb_max = open(p_fasta).read().count('>')\n",
    "            for k in range(1, nb_max + 1):\n",
    "                if matches.count('espaceur' + spol.capitalize() + str(k)\n",
    "                                 + ',') >= 5:\n",
    "                    dico_afr[item]['spoligo' + ['', '_new'][pos]] \\\n",
    "                                   += '\\u25A0'\n",
    "                else:\n",
    "                    dico_afr[item]['spoligo' + ['', '_new'][pos]] \\\n",
    "                                   += '\\u25A1'\n",
    "\n",
    "        dico_afr[item]['spoligo' + ['', '_new'][pos] + '_nb'] = [\n",
    "            matches.count('espaceur' + spol.capitalize() + str(k) + ',')\n",
    "            for k in range(1, nb_max + 1)]\n",
    "        try:\n",
    "            move(p_blast, rep)\n",
    "        except FileNotFoundError:\n",
    "            print(p_blast, \" is already in the SRA directory.\")"
   ]
  },
  {
   "cell_type": "markdown",
   "metadata": {},
   "source": [
    "You will read the message:"
   ]
  },
  {
   "cell_type": "markdown",
   "metadata": {},
   "source": [
    "    The spoligotypes are being blasted\n",
    "    The spoligo-vitro are being blasted"
   ]
  },
  {
   "cell_type": "markdown",
   "metadata": {},
   "source": [
    "The different files ERR2704808_\\*.blast will then be moved to **REP/sequences/ERR2704808**"
   ]
  },
  {
   "cell_type": "markdown",
   "metadata": {},
   "source": [
    "As a result, the programm will display the following information:"
   ]
  },
  {
   "cell_type": "markdown",
   "metadata": {},
   "source": [
    "    spoligo: ■□□■■■■□□□□□■■■■■■■■□□□□■■■□□■■■■■■■□□□■■■■\n",
    "\n",
    "    spoligo_nb: [294, 0, 0, 283, 316, 284, 298, 0, 0, 0, 0, 0, 290, 331, 304, 324, 279, 259, 284, 357, 0, 0, 0, 0, 500, 296, 315, 0, 0, 351, 273, 312, 341, 299, 309, 339, 0, 0, 0, 230, 254, 277, 294]\n",
    "\n",
    "    spoligo_new: ■■□□■■■■■■■■■■■■□□□□□□■■■■■■■■□□□□■■■□□■■■■■■■■■■■□□□□□□□□□□■■■■■■■■□□□□□□□□□□□□□□□□□□□□□□□□□□□□□□\n",
    "\n",
    "    spoligo_new_nb: [295, 294, 0, 0, 258, 309, 359, 321, 310, 258, 300, 283, 316, 284, 298, 310, 0, 0, 0, 0, 0, 0, 290, 331, 304, 324, 279, 259, 284, 357, 0, 0, 0, 0, 500, 296, 315, 0, 0, 351, 273, 312, 341, 299, 293, 309, 339, 309, 297, 306, 0, 0, 0, 0, 0, 0, 0, 0, 0, 0, 299, 230, 254, 277, 294, 275, 307, 323, 0, 0, 0, 0, 0, 0, 0, 0, 0, 0, 0, 0, 0, 0, 0, 0, 0, 0, 0, 0, 0, 0, 0, 0, 0, 0, 0, 0, 0, 0]"
   ]
  },
  {
   "cell_type": "markdown",
   "metadata": {},
   "source": [
    "The same process is applied to the spoligotypes_vitro."
   ]
  },
  {
   "cell_type": "markdown",
   "metadata": {},
   "source": [
    "    spoligo_vitro: ■□□■■■■□□□□□■■■■■■■■□□□□■■■□□■■■■■■■□□□■■■■\n",
    "\n",
    "    spoligo_vitro_nb: [(327, 314), (0, 0), (0, 0), (303, 302), (360, 353), (332, 310), (342, 334), (0, 0), (0, 0), (0, 0), (0, 0), (0, 0), (346, 334), (357, 359), (345, 336), (345, 354), (310, 301), (291, 287), (297, 327), (391, 382), (0, 0), (0, 0), (0, 0), (0, 0), (500, 500), (332, 321), (346, 362), (0, 0), (0, 0), (377, 371), (312, 297), (338, 356), (401, 364), (343, 341), (329, 339), (368, 363), (0, 0), (0, 0), (0, 0), (269, 270), (289, 270), (331, 305), (333, 327)]\n",
    "\n",
    "    spoligo_vitro_new: ■■□□■■■■■■■■■■■■□□□□□□■■□■■■■■□□□□■■■□□■■■■■■■■■■■□□□□□□□□□□■■■■■■■■□□□□□□□□□□□□□□□□□□□□□□□□□□□□□□\n",
    "\n",
    "    spoligo_vitro_new_nb: [(347, 325), (327, 314), (0, 0), (0, 0), (298, 280), (338, 353), (396, 396), (375, 355), (351, 335), (288, 285), (329, 329), (303, 302), (360, 353), (332, 310), (342, 334), (344, 329), (0, 0), (0, 0), (0, 0), (0, 0), (0, 0), (0, 0), (346, 334), (357, 359), (0, 301), (345, 354), (310, 301), (291, 287), (297, 327), (391, 382), (0, 0), (0, 0), (0, 0), (0, 0), (500, 500), (332, 321), (346, 362), (0, 0), (0, 0), (377, 371), (312, 297), (338, 356), (401, 364), (343, 341), (341, 326), (329, 339), (368, 363), (341, 337), (338, 337), (362, 338), (0, 0), (0, 0), (0, 0), (0, 0), (0, 0), (0, 0), (0, 0), (0, 0), (0, 0), (0, 0), (336, 338), (269, 270), (289, 270), (331, 305), (332, 327), (313, 293), (322, 335), (347, 371), (0, 0), (0, 0), (0, 0), (0, 0), (0, 0), (0, 0), (0, 0), (0, 0), (0, 0), (0, 0), (0, 0), (0, 0), (0, 0), (0, 0), (0, 0), (0, 0), (300, 0), (0, 0), (0, 0), (0, 0), (0, 0), (0, 0), (0, 0), (0, 0), (0, 0), (0, 0), (0, 0), (0, 0), (0, 0), (0, 0)]"
   ]
  },
  {
   "cell_type": "markdown",
   "metadata": {},
   "source": [
    "The Spoligotype International Type and Spoligotype International Type silico will be retrieved according to the following code:"
   ]
  },
  {
   "cell_type": "code",
   "execution_count": null,
   "metadata": {},
   "outputs": [],
   "source": [
    "if 'SIT' not in dico_afr[item] or dico_afr[item]['SIT'] == '':\n",
    "    fonctions.add_spoligo_dico('SIT', dico_afr, item, spol_sit)\n",
    "\n",
    "if 'SIT_silico' not in dico_afr[item]:\n",
    "    fonctions.add_spoligo_dico('SIT_silico', dico_afr, item, spol_sit)"
   ]
  },
  {
   "cell_type": "markdown",
   "metadata": {},
   "source": [
    "which will display the following message:"
   ]
  },
  {
   "cell_type": "markdown",
   "metadata": {},
   "source": [
    "    We're adding the SIT: X to the database\n",
    "    We're adding the SIT_silico: X to the database"
   ]
  },
  {
   "cell_type": "markdown",
   "metadata": {},
   "source": [
    "Finally, the lineage will be defined by comparing the blast files with the different lineages L6+animal, Principal Genotyping Group, Principal Genotyping Group-cp, Coll, Pali, Shitikov and Stucki, as for example in the code:"
   ]
  },
  {
   "cell_type": "code",
   "execution_count": null,
   "metadata": {},
   "outputs": [],
   "source": [
    "if 'lineage_Pali' not in dico_afr[item]:\n",
    "    lignee = []\n",
    "    lignee_snp = fonctions.to_reads('Pali')\n",
    "    print(\"We're adding the lineage according to the SNPs Pali\")\n",
    "\n",
    "    for item2, pos0 in enumerate(lignee_snp):\n",
    "        seq1, seq2 = lignee_snp[pos0][:2]\n",
    "        p_blast = str(PurePath(crisprbuilder_tb.__path__[0], 'tmp',\n",
    "                               'snp_Pali.blast'))\n",
    "        with open(fonctions.P_FASTA, 'w') as f_fasta:\n",
    "            f_fasta.write('>\\n' + seq2)\n",
    "        cmd = \"blastn -query \" + fonctions.P_FASTA + \" -num_threads 12\" \\\n",
    "              \" -evalue 1e-5 -task blastn -db \" + repitem + \\\n",
    "              \" -outfmt '10 sseq' -out \" + p_blast\n",
    "        system(cmd)\n",
    "        with open(p_blast) as f_blast:\n",
    "            formatted_results = f_blast.read().splitlines()\n",
    "\n",
    "        nb_seq1 = fonctions.to_nb_seq(seq1, formatted_results, 16, 20,\n",
    "                                      21, 25)\n",
    "        nb_seq2 = fonctions.to_nb_seq(seq2, formatted_results, 16, 20,\n",
    "                                      21, 25)\n",
    "\n",
    "        if nb_seq2 > nb_seq1:\n",
    "            lignee.append(lignee_snp[pos0][2])\n",
    "\n",
    "    lignee = [u for u in sorted(set(lignee))]\n",
    "\n",
    "    dico_afr[item]['lineage_Pali'] = lignee"
   ]
  },
  {
   "cell_type": "markdown",
   "metadata": {},
   "source": [
    "During its work the program will display the following message:"
   ]
  },
  {
   "cell_type": "markdown",
   "metadata": {},
   "source": [
    "    We're adding the lineage according to the SNPs L6+animal\n",
    "    We're adding the lineage according to the SNPs PGG\n",
    "    The lineage is being updated.\n",
    "    We're adding the lineage according to the SNPs Coll\n",
    "    We have selected specific reads to compare with different lineages\n",
    "    We're adding the lineage according to the SNPs Pali\n",
    "    We have selected specific reads to compare with different lineages\n",
    "    We're adding the lineage according to the SNPs Shitikov\n",
    "    We have selected specific reads to compare with different lineages\n",
    "    We're adding the lineage according to the SNPs Stucki"
   ]
  },
  {
   "cell_type": "markdown",
   "metadata": {},
   "source": [
    "which will produce the following result:"
   ]
  },
  {
   "cell_type": "markdown",
   "metadata": {},
   "source": [
    "    lineage_L6+animal: 1\n",
    "    lineage_PGG_cp: ['1', 'X']\n",
    "    lineage_PGG: X\n",
    "    lineage_Coll: ['4', '4.9', '5']\n",
    "    lineage_Pali: ['1']\n",
    "    lineage_Shitikov: []\n",
    "    Lignee_Stucki: ['4.10']"
   ]
  },
  {
   "cell_type": "markdown",
   "metadata": {},
   "source": [
    "Some general information will be retrieved from the dataset Origines or directly from NCBI, according to the code:"
   ]
  },
  {
   "cell_type": "code",
   "execution_count": null,
   "metadata": {},
   "outputs": [],
   "source": [
    "if 'Source' not in dico_afr[item]:\n",
    "    for ref in bdd.Origines:\n",
    "        if item in ref['run accessions']:\n",
    "            for elt in ['Source', 'Author', 'study accession number',\n",
    "                        'location']:\n",
    "                dico_afr[item][elt] = ref.get(elt)\n",
    "\n",
    "if 'taxid' not in dico_afr[item]:\n",
    "    dicobis = fonctions.get_info(item)\n",
    "    for elt in dicobis:\n",
    "        dico_afr[item][elt] = dicobis[elt]"
   ]
  },
  {
   "cell_type": "markdown",
   "metadata": {},
   "source": [
    "If the SRA belongs to Origines, the following message will be displayed:"
   ]
  },
  {
   "cell_type": "markdown",
   "metadata": {},
   "source": [
    "    ERR2704808 is in the database Origines"
   ]
  },
  {
   "cell_type": "markdown",
   "metadata": {},
   "source": [
    "which will produce the following result:"
   ]
  },
  {
   "cell_type": "markdown",
   "metadata": {},
   "source": [
    "    Source: Unexpected Genomic and Phenotypic Diversity of Mycobacterium africanum Lineage 5 Affects Drug Resistance, Protein Secretion, and Immunogenicity\n",
    "    Author: Ates et al. 2018\n",
    "    study accession number: PRJEB25506\n",
    "    location: France\n",
    "    date: 2007\n",
    "    SRA: ERS2280688\n",
    "    center: DST/NRF Centre of Excellence for Biomedical TB research, SAMRC Centre for TB Research\n",
    "    strain: \n",
    "    taxid: 33894\n",
    "    name: Mycobacterium tuberculosis variant africanum\n",
    "    study: ena-STUDY-DST/NRF Centre of Excellence for Biomedical TB research, SAMRC Centre for TB Research-10-03-2018-12:26:21:907-341\n",
    "    bioproject: PRJEB25506"
   ]
  },
  {
   "cell_type": "markdown",
   "metadata": {},
   "source": [
    "## References"
   ]
  },
  {
   "cell_type": "markdown",
   "metadata": {},
   "source": [
    "<a id=\"id1\">1.</a>    Guyeux C, Sola C, Noûs C, Refrégier G. CRISPRbuilder-TB:\n",
    "“CRISPR-Builder for tuberculosis”. Exhaustive reconstruction of the CRISPR locus in Mycobacterium tuberculosis complex using SRA. PLoS computational biology. 2020;submitted(PCOMPBIOL-S-20-00832-2)."
   ]
  },
  {
   "cell_type": "markdown",
   "metadata": {},
   "source": [
    "<a id=\"id2\">2.</a>    Guyeux C, Sola C, Refrégier G. Exhaustive reconstruction of the CRISPR locus in M. tuberculosis complex using short reads BioRxiv. 2019a. doi: https://doi.org/10.1101/844746."
   ]
  },
  {
   "cell_type": "markdown",
   "metadata": {},
   "source": [
    "<a id=\"id3\">3.</a> Coll F, Preston M, Guerra-Assuncao JA, Hill-Cawthorn G, Harris D, Perdigao J, et al. PolyTB: A genomic variation map for Mycobacterium\n",
    "tuberculosis. Tuberculosis (Edinb). 2014;94(3):346-54(3):346-54. doi: 10.1016/j.tube.2014.02.005. PubMed PMID: 24637013."
   ]
  },
  {
   "cell_type": "markdown",
   "metadata": {},
   "source": [
    "<a id=\"id4\">4.</a> Stucki D, Brites D, Jeljeli L, Coscolla M, Liu Q, Trauner A, et al.\n",
    "Mycobacterium tuberculosis lineage 4 comprises globally distributed and\n",
    "geographically restricted sublineages. Nature genetics.\n",
    "2016;48(12):1535-43. doi: 10.1038/ng.3704. PubMed PMID: 27798628."
   ]
  },
  {
   "cell_type": "markdown",
   "metadata": {},
   "source": [
    "<a id=\"id5\">5.</a> Palittapongarnpim P, Ajawatanawong P, Viratyosin W, Smittipat N,\n",
    "Disratthakit A, Mahasirimongkol S, et al. Evidence for Host-Bacterial\n",
    "Co-evolution via Genome Sequence Analysis of 480 Thai Mycobacterium\n",
    "tuberculosis Lineage 1 Isolates. Scientific reports. 2018;8(1):11597.\n",
    "Epub 2018/08/04. doi: 10.1038/s41598-018-29986-3. PubMed PMID: 30072734;\n",
    "PubMed Central PMCID: PMCPMC6072702."
   ]
  },
  {
   "cell_type": "markdown",
   "metadata": {},
   "source": [
    "<a id=\"id6\">6.</a> Shitikov E, Kolchenko S, Mokrousov I, Bespyatykh J, Ischenko D, Ilina E,\n",
    "et al. Evolutionary pathway analysis and unified classification of East\n",
    "Asian lineage of Mycobacterium tuberculosis. Scientific reports.\n",
    "2017;7(1):9227. doi: 10.1038/s41598-017-10018-5. PubMed PMID: 28835627;\n",
    "PubMed Central PMCID: PMCPMC5569047."
   ]
  },
  {
   "cell_type": "markdown",
   "metadata": {},
   "source": [
    "<a id=\"id7\">7.</a> Kamerbeek J, Schouls L, Kolk A, van Agterveld M, van Soolingen D,\n",
    "Kuijper S, et al. Simultaneous detection and strain differentiation of\n",
    "Mycobacterium tuberculosis for diagnosis and epidemiology. J Clin\n",
    "Microbiol. 1997;35(4):907-14. PubMed PMID: 9157152."
   ]
  },
  {
   "cell_type": "markdown",
   "metadata": {},
   "source": [
    "<a id=\"id8\">8.</a> van Embden JDA, van Gorkom T, Kremer K, Jansen R, van der Zeijst BAM,\n",
    "Schouls LM. Genetic variation and evolutionary origin of the Direct\n",
    "repeat locus of Mycobacterium tuberculosis complex bacteria. J\n",
    "Bacteriol. 2000;182:2393-401."
   ]
  },
  {
   "cell_type": "raw",
   "metadata": {},
   "source": []
  }
 ],
 "metadata": {
  "celltoolbar": "Aucun(e)",
  "kernelspec": {
   "display_name": "Python 3",
   "language": "python",
   "name": "python3"
  },
  "language_info": {
   "codemirror_mode": {
    "name": "ipython",
    "version": 3
   },
   "file_extension": ".py",
   "mimetype": "text/x-python",
   "name": "python",
   "nbconvert_exporter": "python",
   "pygments_lexer": "ipython3",
   "version": "3.6.5"
  }
 },
 "nbformat": 4,
 "nbformat_minor": 4
}

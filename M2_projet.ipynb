{
 "cells": [
  {
   "cell_type": "markdown",
   "metadata": {},
   "source": [
    "# Description of the pyMTC package"
   ]
  },
  {
   "cell_type": "markdown",
   "metadata": {},
   "source": [
    "## Retrieving the genome information dictionary"
   ]
  },
  {
   "cell_type": "markdown",
   "metadata": {},
   "source": [
    "## How to install the package"
   ]
  },
  {
   "cell_type": "markdown",
   "metadata": {},
   "source": [
    "### For MacOS"
   ]
  },
  {
   "cell_type": "code",
   "execution_count": null,
   "metadata": {},
   "outputs": [],
   "source": []
  },
  {
   "cell_type": "markdown",
   "metadata": {},
   "source": [
    "### For Linux"
   ]
  },
  {
   "cell_type": "code",
   "execution_count": null,
   "metadata": {},
   "outputs": [],
   "source": []
  },
  {
   "cell_type": "markdown",
   "metadata": {},
   "source": [
    "### For Windows"
   ]
  },
  {
   "cell_type": "code",
   "execution_count": null,
   "metadata": {},
   "outputs": [],
   "source": []
  },
  {
   "cell_type": "markdown",
   "metadata": {},
   "source": [
    "## Package description"
   ]
  },
  {
   "cell_type": "markdown",
   "metadata": {},
   "source": [
    "The NEWS file summarises the changes in each release of the package."
   ]
  },
  {
   "cell_type": "markdown",
   "metadata": {},
   "source": [
    "The pyMTC package is an open source software made available under generous terms. Please see the LICENSE file for further details.\n",
    "\n",
    "If you use pyMTC in work contributing to a scientific publication, we ask that you cite the following application note: Université de Franche Comté XXX"
   ]
  },
  {
   "cell_type": "markdown",
   "metadata": {},
   "source": [
    "# Partial description of the code"
   ]
  },
  {
   "cell_type": "markdown",
   "metadata": {},
   "source": [
    "The dico dictionary can be represented like this :"
   ]
  },
  {
   "cell_type": "raw",
   "metadata": {},
   "source": [
    "{\n",
    "    'EXPERIMENT_PACKAGE_SET' : \n",
    "    {\n",
    "        'EXPERIMENT_PACKAGE' : \n",
    "        {\n",
    "            'EXPERIMENT' :\n",
    "           {\n",
    "               'PLATFORM' : 'a_value',\n",
    "               'DESIGN' : \n",
    "               {\n",
    "                   'LIBRARY_DESCRIPTOR' : \n",
    "                   {\n",
    "                       'LIBRARY_LAYOUT' : 'a_value'\n",
    "                   }\n",
    "               },\n",
    "               '@center_name' : a_value\n",
    "           },\n",
    "            'STUDY' :\n",
    "            {\n",
    "                'DESCRIPTOR' : \n",
    "                {\n",
    "                    'STUDY_TITLE' : 'a_value'\n",
    "                },\n",
    "                'IDENTIFIERS' : \n",
    "                {\n",
    "                    'EXTERNAL_ID' : \n",
    "                    [\n",
    "                        {\n",
    "                                '#text' : a_value\n",
    "                        },\n",
    "                        {\n",
    "                            \n",
    "                        },\n",
    "                        {\n",
    "                            \n",
    "                        }\n",
    "                    ]\n",
    "                },\n",
    "                '@alias' : 'a_value'\n",
    "            },\n",
    "            'SAMPLE' :\n",
    "            {\n",
    "                'SAMPLE_ATTRIBUTES' :\n",
    "                {\n",
    "                    'SAMPLE_ATTRIBUTE' : \n",
    "                    [\n",
    "                        {\n",
    "                            'TAG' : 'geographic location (country and/or sea)',\n",
    "                            'VALUE' : 'a_value'\n",
    "                        },\n",
    "                        {\n",
    "                            'TAG' : 'collection date',\n",
    "                            'VALUE' : 'a_value'\n",
    "                        },\n",
    "                        {\n",
    "                            'TAG' : 'SRA accession',\n",
    "                            'VALUE' : 'a_value'\n",
    "                        },\n",
    "                        {\n",
    "                            'TAG' : 'INSDC center name',\n",
    "                            'VALUE' : 'a_value'\n",
    "                        },\n",
    "                        {\n",
    "                            'TAG' : 'Strain',\n",
    "                            'VALUE' : 'a_value'\n",
    "                        },\n",
    "                    ]\n",
    "                },\n",
    "                'SAMPLE_NAME' :\n",
    "                {\n",
    "                    'TAXON_ID' : 'a_value',\n",
    "                    'SCIENTIFIC_NAME' : 'a_value'\n",
    "                }\n",
    "            },\n",
    "            'RUN_SET' :\n",
    "            {\n",
    "                'RUN' : a_list_of_srr\n",
    "            }\n",
    "        }  \n",
    "    }\n",
    "}"
   ]
  },
  {
   "cell_type": "markdown",
   "metadata": {},
   "source": [
    "The dico_afr dictionary can be represented like this :"
   ]
  },
  {
   "cell_type": "raw",
   "metadata": {},
   "source": [
    "{\n",
    "    srr1? : \n",
    "    {\n",
    "        'accession' : a_value,\n",
    "        'location' : a_value,\n",
    "        'date' : a_value,\n",
    "        'SRA' : a_value,\n",
    "        'center' : a_value,\n",
    "        'strain' : a_value,\n",
    "        'SIT' : ,\n",
    "        'spoligo' : ,\n",
    "        'spoligo_new' : ,\n",
    "        'lineage_Coll' : ,\n",
    "        'IS6110' : ,\n",
    "        'taxid' : a_value,\n",
    "        'name' : a_value,\n",
    "        'desc' : a_value,\n",
    "        'title' : a_value\n",
    "    },\n",
    "    srr2? : \n",
    "    {\n",
    "        'accession' : a_value,\n",
    "        'location' : a_value,\n",
    "        'date' : a_value,\n",
    "        'SRA' : a_value,\n",
    "        'center' : a_value,\n",
    "        'strain' : a_value,\n",
    "        'SIT' : ,\n",
    "        'spoligo' : ,\n",
    "        'spoligo_new' : ,\n",
    "        'lineage_Coll' : ,\n",
    "        'IS6110' : ,\n",
    "        'taxid' : a_value,\n",
    "        'name' : a_value\n",
    "        'desc' : a_value,\n",
    "        'title' : a_value\n",
    "    }\n",
    "}\n"
   ]
  },
  {
   "cell_type": "raw",
   "metadata": {},
   "source": [
    "wwb = open_workbook('../data/Coll_62_SNPs_(copie).xlsx')\n",
    "wws = wwb.sheet_by_index(0)\n",
    "\n",
    "for row in range(1, wws.nrows):\n",
    "\n",
    "    chaine = str(wws.cell_value(row, 0)).lstrip('lineage').replace('*', '')\n",
    "    chaine = chaine.strip() + ','\n",
    "    for i in range(1, 17):\n",
    "        chaine += str(wws.cell_value(row, i)).replace('.0', '').strip()+','\n",
    "        liste_SRA = chaine.strip().split(',')\n",
    "    with open('lineage.csv', 'a', newline='') as file:\n",
    "        c = csv.writer(file, delimiter=',', quotechar='\"',\n",
    "                       quoting=csv.QUOTE_MINIMAL)\n",
    "        c.writerow(liste_SRA)\n",
    "\n",
    "with open('lineage.csv', 'r', newline='') as f:\n",
    "    spreader = csv.reader(f, delimiter=',', quotechar='\"')\n",
    "    for row in spreader:\n",
    "        print(', '.join(row))\n",
    "        "
   ]
  },
  {
   "cell_type": "raw",
   "metadata": {},
   "source": [
    "Pour transformer xlsx en csv"
   ]
  },
  {
   "cell_type": "raw",
   "metadata": {},
   "source": [
    "necessary to install parallel-fastq-dump and blastn+"
   ]
  },
  {
   "cell_type": "code",
   "execution_count": null,
   "metadata": {},
   "outputs": [],
   "source": []
  }
 ],
 "metadata": {
  "kernelspec": {
   "display_name": "Python 3",
   "language": "python",
   "name": "python3"
  },
  "language_info": {
   "codemirror_mode": {
    "name": "ipython",
    "version": 3
   },
   "file_extension": ".py",
   "mimetype": "text/x-python",
   "name": "python",
   "nbconvert_exporter": "python",
   "pygments_lexer": "ipython3",
   "version": "3.6.9"
  }
 },
 "nbformat": 4,
 "nbformat_minor": 4
}
